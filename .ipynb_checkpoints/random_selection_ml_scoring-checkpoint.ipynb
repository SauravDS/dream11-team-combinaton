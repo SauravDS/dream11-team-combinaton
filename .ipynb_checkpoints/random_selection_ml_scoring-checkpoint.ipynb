{
 "cells": [
  {
   "cell_type": "code",
   "execution_count": 2,
   "metadata": {},
   "outputs": [
    {
     "ename": "ModuleNotFoundError",
     "evalue": "No module named 'sklearn'",
     "output_type": "error",
     "traceback": [
      "\u001b[1;31m---------------------------------------------------------------------------\u001b[0m",
      "\u001b[1;31mModuleNotFoundError\u001b[0m                       Traceback (most recent call last)",
      "Cell \u001b[1;32mIn [2], line 3\u001b[0m\n\u001b[0;32m      1\u001b[0m \u001b[39mimport\u001b[39;00m \u001b[39mpandas\u001b[39;00m \u001b[39mas\u001b[39;00m \u001b[39mpd\u001b[39;00m\n\u001b[0;32m      2\u001b[0m \u001b[39mimport\u001b[39;00m \u001b[39mrandom\u001b[39;00m\n\u001b[1;32m----> 3\u001b[0m \u001b[39mfrom\u001b[39;00m \u001b[39msklearn\u001b[39;00m\u001b[39m.\u001b[39;00m\u001b[39mmodel_selection\u001b[39;00m \u001b[39mimport\u001b[39;00m train_test_split\n\u001b[0;32m      4\u001b[0m \u001b[39mfrom\u001b[39;00m \u001b[39msklearn\u001b[39;00m\u001b[39m.\u001b[39;00m\u001b[39mlinear_model\u001b[39;00m \u001b[39mimport\u001b[39;00m LinearRegression\n\u001b[0;32m      5\u001b[0m \u001b[39mfrom\u001b[39;00m \u001b[39msklearn\u001b[39;00m\u001b[39m.\u001b[39;00m\u001b[39mmetrics\u001b[39;00m \u001b[39mimport\u001b[39;00m mean_squared_error\n",
      "\u001b[1;31mModuleNotFoundError\u001b[0m: No module named 'sklearn'"
     ]
    }
   ],
   "source": [
    "import pandas as pd\n",
    "import random\n",
    "from sklearn.model_selection import train_test_split\n",
    "from sklearn.linear_model import LinearRegression\n",
    "from sklearn.metrics import mean_squared_error\n",
    "\n",
    "# Read the dataset into a pandas dataframe\n",
    "df = pd.read_csv('t10_data.csv')\n",
    "\n",
    "# Convert any ranges of two values in 'predicted_fantasy_points' to the average of the two values\n",
    "df['predicted_fantasy_points'] = df['predicted_fantasy_points'].apply(lambda x: sum(map(int, x.split('-')))/2 if '-' in x else int(x))\n",
    "\n",
    "# Replace any invalid value with the mean of the 'predicted_fantasy_points' column\n",
    "df['predicted_fantasy_points'] = pd.to_numeric(df['predicted_fantasy_points'], errors='coerce')\n",
    "df['predicted_fantasy_points'] = df['predicted_fantasy_points'].fillna(df['predicted_fantasy_points'].mean())\n",
    "\n",
    "# Convert 'predicted_fantasy_points', 'form', and 'dream_team_percentage' columns to numeric data type\n",
    "df['predicted_fantasy_points'] = pd.to_numeric(df['predicted_fantasy_points'])\n",
    "df['form'] = pd.to_numeric(df['form'])\n",
    "df['dream_team_percentage'] = pd.to_numeric(df['dream_team_percentage'])\n",
    "\n",
    "# Drop any rows with missing data or null values\n",
    "df = df.dropna()\n",
    "\n",
    "# Define the target variable and the features\n",
    "X = df[['predicted_fantasy_points', 'form', 'dream_team_percentage']]\n",
    "y = df['total_fantasy_points']\n",
    "\n",
    "# Split the dataset into training and testing sets\n",
    "X_train, X_test, y_train, y_test = train_test_split(X, y, test_size=0.2, random_state=42)\n",
    "\n",
    "# Train a linear regression model on the training set\n",
    "reg = LinearRegression().fit(X_train, y_train)\n",
    "\n",
    "# Evaluate the performance of the model on the testing set\n",
    "y_pred = reg.predict(X_test)\n",
    "mse = mean_squared_error(y_test, y_pred)\n",
    "r_squared = reg.score(X_test, y_test)\n",
    "print(\"Mean squared error: \", mse)\n",
    "print(\"R-squared: \", r_squared)\n",
    "\n",
    "# Use the trained model to predict the weighing coefficients\n",
    "predicted_weights = reg.coef_\n",
    "\n",
    "# Create a new column 'rank' by calculating the weighted average of 'predicted_fantasy_points', 'form', and 'dream_team_percentage' columns\n",
    "df['rank'] = predicted_weights[0] * df['predicted_fantasy_points'] + predicted_weights[1] * df['form'] + predicted_weights[2] * df['dream_team_percentage']\n",
    "\n",
    "# Sort the dataframe based on the 'rank' column in descending order\n",
    "df = df.sort_values('rank', ascending=False)\n",
    "\n",
    "# Randomly select 20 combinations of players with 11 players in each combination\n",
    "random_combinations = []\n",
    "for i in range(20):\n",
    "    players = random.sample(df['players'].tolist(), 11)\n",
    "    ranking = sum(df.loc[df['players'].isin(players)]['rank'])\n",
    "    random_combinations.append((ranking, players))\n",
    "\n",
    "# Print the random 20 combinations with their total ranking\n",
    "for i, combination in enumerate(random_combinations):\n",
    "    print(f\"Rank {i+1}: Total Ranking = {combination[0]}\")\n",
    "    print(combination[1])\n",
    "    print()\n"
   ]
  }
 ],
 "metadata": {
  "kernelspec": {
   "display_name": "Python 3",
   "language": "python",
   "name": "python3"
  },
  "language_info": {
   "codemirror_mode": {
    "name": "ipython",
    "version": 3
   },
   "file_extension": ".py",
   "mimetype": "text/x-python",
   "name": "python",
   "nbconvert_exporter": "python",
   "pygments_lexer": "ipython3",
   "version": "3.10.3"
  },
  "orig_nbformat": 4,
  "vscode": {
   "interpreter": {
    "hash": "a9cff5a362bc38ef45d817ae74b1af54d6a076e3d773891282bce078b815ba34"
   }
  }
 },
 "nbformat": 4,
 "nbformat_minor": 2
}
